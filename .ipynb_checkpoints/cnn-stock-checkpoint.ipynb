{
 "cells": [
  {
   "cell_type": "code",
   "execution_count": 1,
   "metadata": {},
   "outputs": [
    {
     "name": "stderr",
     "output_type": "stream",
     "text": [
      "Using TensorFlow backend.\n"
     ]
    }
   ],
   "source": [
    "import pandas as pd\n",
    "import matplotlib.pyplot as plt\n",
    "import numpy as np \n",
    "import keras \n",
    "import tensorflow as tf\n",
    "\n",
    "%matplotlib inline"
   ]
  },
  {
   "cell_type": "markdown",
   "metadata": {},
   "source": [
    "# Utility\n",
    "\n",
    "for cnn\n",
    "\n",
    "1. png_construct\n",
    "2. png_to_matrix\n",
    "3. shuffling_data\n",
    "\n",
    "for All\n",
    "\n",
    "4. train_valid_divide\n",
    "5. csv_to_dataset"
   ]
  },
  {
   "cell_type": "code",
   "execution_count": 65,
   "metadata": {
    "collapsed": true
   },
   "outputs": [],
   "source": [
    "def csv_to_dataset(is_cnn = True, csvpath = \"./bitcoin_ticker.csv\", fromidx = 39000) : \n",
    "    \n",
    "    def df_norm(df) : \n",
    "        newdf = (df - df.mean()) /(df.max() - df.min()) \n",
    "        return newdf - newdf.min()\n",
    "    \n",
    "    data = pd.read_csv('./bitcoin_ticker.csv')\n",
    "    data = data[data['market'] == 'korbit']\n",
    "    data = data[data['rpt_key'] == 'btc_krw']\n",
    "    data = data[['last', 'volume']]\n",
    "    \n",
    "    data_norm = df_norm(data)\n",
    "    data_pretty = data_norm[fromidx:] # 2017년 6월 28일 데이터부터 사용 \n",
    "    \n",
    "    plt.plot(data_pretty)\n",
    "    plt.show()\n",
    "    \n",
    "    x_data = []\n",
    "    y_data = []\n",
    "    \n",
    "    data_pretty_values= data_pretty.values\n",
    "    print(data_pretty_list)\n",
    "    if is_cnn :\n",
    "        for i in range(30, data_pretty.shape[0]-6) : \n",
    "            x_data.append( df_norm( data_pretty[i-30: i] ).values )  #30 min\n",
    "\n",
    "            p1 = data_pretty_list[i][0] \n",
    "            p2 = data_pretty_list[i+5][0] \n",
    "\n",
    "            result = int(p2 > p1)   # y=1 => 5분뒤 오른다  / y=0 => 5분뒤 내린다 \n",
    "            y_data.append(result)\n",
    "\n",
    "        x_data = np.array(x_data, np.float32)\n",
    "        y_data = np.array(y_data, np.float32)\n",
    "        y_data = np.reshape(y_data, [data_pretty.shape[0]-36, 1])\n",
    "        \n",
    "    else : \n",
    "        for i in range(30, data_pretty.shape[0]-6) : \n",
    "            x_data.append( data_pretty[i-30: i].values )  #30 min\n",
    "\n",
    "            p1 = data_pretty_list[i][0] \n",
    "            p2 = data_pretty_list[i+5][0] \n",
    "\n",
    "            result = int(p2 > p1)   # y=1 => 5분뒤 오른다  / y=0 => 5분뒤 내린다 \n",
    "            y_data.append(result)\n",
    "\n",
    "        x_data = np.array(x_data, np.float32)\n",
    "        y_data = np.array(y_data, np.float32)\n",
    "        y_data = np.reshape(y_data, [data_pretty.shape[0]-36, 1])   \n",
    "        \n",
    "    return x_data, y_data"
   ]
  },
  {
   "cell_type": "code",
   "execution_count": 66,
   "metadata": {},
   "outputs": [
    {
     "data": {
      "image/png": "[encoded data removed]",
      "text/plain": [
       "<matplotlib.figure.Figure at 0x1374846a0>"
      ]
     },
     "metadata": {},
     "output_type": "display_data"
    },
    {
     "name": "stdout",
     "output_type": "stream",
     "text": [
      "['last', 'volume']\n"
     ]
    },
    {
     "ename": "IndexError",
     "evalue": "list index out of range",
     "output_type": "error",
     "traceback": [
      "\u001b[0;31m---------------------------------------------------------------------------\u001b[0m",
      "\u001b[0;31mIndexError\u001b[0m                                Traceback (most recent call last)",
      "\u001b[0;32m<ipython-input-66-96c928da5bde>\u001b[0m in \u001b[0;36m<module>\u001b[0;34m()\u001b[0m\n\u001b[0;32m----> 1\u001b[0;31m \u001b[0mcsv_to_dataset\u001b[0m\u001b[0;34m(\u001b[0m\u001b[0mis_cnn\u001b[0m \u001b[0;34m=\u001b[0m \u001b[0;32mFalse\u001b[0m\u001b[0;34m,\u001b[0m \u001b[0mcsvpath\u001b[0m \u001b[0;34m=\u001b[0m \u001b[0;34m\"./bitcoin_ticker.csv\"\u001b[0m\u001b[0;34m,\u001b[0m \u001b[0mfromidx\u001b[0m \u001b[0;34m=\u001b[0m \u001b[0;36m39000\u001b[0m\u001b[0;34m)\u001b[0m\u001b[0;34m\u001b[0m\u001b[0m\n\u001b[0m",
      "\u001b[0;32m<ipython-input-65-73f4d282cbd2>\u001b[0m in \u001b[0;36mcsv_to_dataset\u001b[0;34m(is_cnn, csvpath, fromidx)\u001b[0m\n\u001b[1;32m     39\u001b[0m             \u001b[0mx_data\u001b[0m\u001b[0;34m.\u001b[0m\u001b[0mappend\u001b[0m\u001b[0;34m(\u001b[0m \u001b[0mdata_pretty\u001b[0m\u001b[0;34m[\u001b[0m\u001b[0mi\u001b[0m\u001b[0;34m-\u001b[0m\u001b[0;36m30\u001b[0m\u001b[0;34m:\u001b[0m \u001b[0mi\u001b[0m\u001b[0;34m]\u001b[0m\u001b[0;34m.\u001b[0m\u001b[0mvalues\u001b[0m \u001b[0;34m)\u001b[0m  \u001b[0;31m#30 min\u001b[0m\u001b[0;34m\u001b[0m\u001b[0m\n\u001b[1;32m     40\u001b[0m \u001b[0;34m\u001b[0m\u001b[0m\n\u001b[0;32m---> 41\u001b[0;31m             \u001b[0mp1\u001b[0m \u001b[0;34m=\u001b[0m \u001b[0mdata_pretty_list\u001b[0m\u001b[0;34m[\u001b[0m\u001b[0mi\u001b[0m\u001b[0;34m]\u001b[0m\u001b[0;34m[\u001b[0m\u001b[0;36m0\u001b[0m\u001b[0;34m]\u001b[0m\u001b[0;34m\u001b[0m\u001b[0m\n\u001b[0m\u001b[1;32m     42\u001b[0m             \u001b[0mp2\u001b[0m \u001b[0;34m=\u001b[0m \u001b[0mdata_pretty_list\u001b[0m\u001b[0;34m[\u001b[0m\u001b[0mi\u001b[0m\u001b[0;34m+\u001b[0m\u001b[0;36m5\u001b[0m\u001b[0;34m]\u001b[0m\u001b[0;34m[\u001b[0m\u001b[0;36m0\u001b[0m\u001b[0;34m]\u001b[0m\u001b[0;34m\u001b[0m\u001b[0m\n\u001b[1;32m     43\u001b[0m \u001b[0;34m\u001b[0m\u001b[0m\n",
      "\u001b[0;31mIndexError\u001b[0m: list index out of range"
     ]
    }
   ],
   "source": [
    "csv_to_dataset(is_cnn = False, csvpath = \"./bitcoin_ticker.csv\", fromidx = 39000)"
   ]
  },
  {
   "cell_type": "code",
   "execution_count": 10,
   "metadata": {
    "collapsed": true,
    "scrolled": true
   },
   "outputs": [],
   "source": [
    "## image construction \n",
    "## input : numpy array with shape (batch, length, features) / directory / dpi = image size\n",
    "## output : -- \n",
    "## doing : making png files in selected directory\n",
    "\n",
    "def png_construct(data , directory = './x_data', dpi = 10) : \n",
    "    \n",
    "    for i in range(data.shape[0])  :     \n",
    "        fig = plt.figure(i , frameon=False)\n",
    "        fig.set_size_inches(5,5)\n",
    "\n",
    "        ax = plt.Axes(fig, [0., 0., 1., 1.])\n",
    "        ax.set_axis_off()\n",
    "        fig.add_axes(ax)\n",
    "\n",
    "        plt.plot(data[i, :, :], linewidth=5)\n",
    "        plt.ylim(0.0,1.0)\n",
    "\n",
    "        fig.savefig(directory +'/' + str(i) + '.png', transparant = True, pad_inches = 0 , dpi = dpi)\n",
    "\n",
    "        plt.close(fig)\n",
    "        if i == 0 :\n",
    "            print('<Start Constructing>')\n",
    "        elif i%1000 == 0 : \n",
    "            print('./x_data/' + str(i-999) + '.png to ' +'./x_data/' + str(i) + \".png have been saved\")\n",
    "        elif i == data.shape[0]-1 : \n",
    "            print('<Complete Image Constructing> : Total ',data.shape[0],' images into ', directory)\n",
    "        #print(batches[9000].shape)"
   ]
  },
  {
   "cell_type": "code",
   "execution_count": 55,
   "metadata": {
    "collapsed": true
   },
   "outputs": [],
   "source": [
    "#image to matrix\n",
    "\n",
    "#input : number of images, directory \n",
    "#output : numpy array of images\n",
    "\n",
    "def png_to_matrix(num ,directory = './x_data'):  \n",
    "\n",
    "    import matplotlib.image as mpimg\n",
    "\n",
    "    x_data = [] \n",
    "\n",
    "    for i in range(num) :\n",
    "        img = mpimg.imread(directory+'/'+ str(i) +'.png') # type : np.float32\n",
    "\n",
    "        x_data.append(img)\n",
    "\n",
    "        if i == 0 :\n",
    "            print(\"<Start Transfer> : shape = \", img.shape)\n",
    "\n",
    "        #elif i%1000 == 0 : \n",
    "        #    print('./x_data/' + str(i-999) + '.png to ' +'./x_data/' + str(i) + \".png have been transfered to numpy Matrix.\")\n",
    "       \n",
    "        elif i == num-1 : \n",
    "            print('<Complete image to Matrix transfer>  : Total ',num ,' matrix into list => shape = ', img.shape)\n",
    "    \n",
    "    x_data = np.array(x_data, dtype=np.float32)\n",
    "    return x_data\n",
    "\n",
    "#print('x_data length: ',len(x_data)  , 'matrix shape: ' , x_data[0].shape)"
   ]
  },
  {
   "cell_type": "code",
   "execution_count": 12,
   "metadata": {},
   "outputs": [
    {
     "name": "stdout",
     "output_type": "stream",
     "text": [
      "batch length of x_data and y_data are not same\n"
     ]
    }
   ],
   "source": [
    "class DiffLengthError(Exception):\n",
    "    print('batch length of x_data and y_data are not same')"
   ]
  },
  {
   "cell_type": "code",
   "execution_count": 13,
   "metadata": {
    "collapsed": true
   },
   "outputs": [],
   "source": [
    "# Shuffling datas\n",
    "#input : x_data, y_data with same length\n",
    "def shuffling_data(x_data, y_data) :\n",
    "    if x_data.shape[0] != y_data.shape[0]:\n",
    "        raise DiffLengthError\n",
    "        return 0\n",
    "    else : \n",
    "        from random import shuffle\n",
    "\n",
    "        x_data = list(x_data)\n",
    "        y_data = list(y_data)\n",
    "        # Given list1 and list2\n",
    "        list1_shuf = []\n",
    "        list2_shuf = []\n",
    "        index_shuf = list(range(len(x_data)))\n",
    "        shuffle(index_shuf)\n",
    "        for i in index_shuf:\n",
    "            list1_shuf.append(x_data[i])\n",
    "            list2_shuf.append(y_data[i])\n",
    "\n",
    "        x_data = np.array(list1_shuf)\n",
    "        y_data = np.array(list2_shuf)\n",
    "        \n",
    "        return x_data, y_data"
   ]
  },
  {
   "cell_type": "code",
   "execution_count": 14,
   "metadata": {
    "collapsed": true
   },
   "outputs": [],
   "source": [
    "\n",
    "def train_valid_divide(x_data, y_data, per = 0.8) : \n",
    "    if x_data.shape[0] != y_data.shape[0]:\n",
    "        raise DiffLengthError\n",
    "        return 0\n",
    "    else : \n",
    "        if len(x_data.shape) ==4 : \n",
    "            l = x_data.shape[0]\n",
    "            tl = int(l * per )\n",
    "            train_x = x_data[:tl, :,:,:]\n",
    "            train_y = y_data[:tl, :]\n",
    "\n",
    "            valid_x = x_data[tl: ,:,:,:]\n",
    "            valid_y = y_data[tl:, :]\n",
    "\n",
    "            return train_x, train_y, valid_x, valid_y\n",
    "        elif len(x_data.shape) ==3 :\n",
    "            l = x_data.shape[0]\n",
    "            tl = int(l * per )\n",
    "            train_x = x_data[:tl, :,:]\n",
    "            train_y = y_data[:tl, :]\n",
    "\n",
    "            valid_x = x_data[tl: ,:,:]\n",
    "            valid_y = y_data[tl:, :]\n",
    "\n",
    "            return train_x, train_y, valid_x, valid_y\n"
   ]
  },
  {
   "cell_type": "markdown",
   "metadata": {},
   "source": [
    "# CNN  data"
   ]
  },
  {
   "cell_type": "code",
   "execution_count": 56,
   "metadata": {},
   "outputs": [
    {
     "name": "stdout",
     "output_type": "stream",
     "text": [
      "<Start Transfer> : shape =  (50, 50, 4)\n",
      "<Complete image to Matrix transfer>  : Total  23683  matrix into list => shape =  (50, 50, 4)\n",
      "cnn_x.shape: (23683, 50, 50, 4) cnn_y.shape (23683, 1)\n",
      "ctrain_x, ctrain_y :  (18946, 50, 50, 4) (18946, 1) cvalid_x, cvalid_y :  (4737, 50, 50, 4) (4737, 1)\n"
     ]
    }
   ],
   "source": [
    "#png_constuct(x_data)\n",
    "\n",
    "cnn_x = png_to_matrix(x_data.shape[0])\n",
    "cnn_y = y_data\n",
    "\n",
    "print('cnn_x.shape:',cnn_x.shape, 'cnn_y.shape',cnn_y.shape)\n",
    "\n",
    "cnn_x , cnn_y = shuffling_data(cnn_x, cnn_y)\n",
    "\n",
    "ctrain_x ,ctrain_y, cvalid_x, cvalid_y = train_valid_divide(cnn_x, cnn_y)\n",
    "\n",
    "print('ctrain_x, ctrain_y : ',ctrain_x.shape, ctrain_y.shape, 'cvalid_x, cvalid_y : ', cvalid_x.shape, cvalid_y.shape )"
   ]
  },
  {
   "cell_type": "code",
   "execution_count": 16,
   "metadata": {},
   "outputs": [
    {
     "data": {
      "text/plain": [
       "<matplotlib.image.AxesImage at 0x11a918390>"
      ]
     },
     "execution_count": 16,
     "metadata": {},
     "output_type": "execute_result"
    },
    {
     "data": {
      "image/png": "[encoded data removed]",
      "text/plain": [
       "<matplotlib.figure.Figure at 0x119377588>"
      ]
     },
     "metadata": {},
     "output_type": "display_data"
    }
   ],
   "source": [
    "plt.imshow(cvalid_x[3])"
   ]
  },
  {
   "cell_type": "markdown",
   "metadata": {},
   "source": [
    "# Making CNN Graph"
   ]
  },
  {
   "cell_type": "code",
   "execution_count": 42,
   "metadata": {
    "collapsed": true
   },
   "outputs": [],
   "source": [
    "## Graph \n",
    "def cnn_graph(learning_rate = 0.001):\n",
    "    cnn = tf.Graph()\n",
    "    with cnn.as_default() : \n",
    "\n",
    "        #feed \n",
    "        X = tf.placeholder(name = \"X\", shape = [None, 50, 50 , 4], dtype = np.float32)\n",
    "        Y = tf.placeholder(name = \"Y\", shape = [None, 1], dtype = np.float32)\n",
    "\n",
    "        #TRAINABLE variables\n",
    "        w1 = tf.get_variable(shape = [3,3,4,32], initializer = tf.random_normal_initializer(stddev = 0.01, mean = 0.0), name = \"w1\")\n",
    "        #w2 = tf.get_variable(shape = [3,3,32,64], initializer= tf.random_normal_initializer(stddev = 0.01, mean= 0.0), name = 'w2')\n",
    "\n",
    "        #w3 = tf.get_variable(shape = [13*13*64 , 256], initializer= tf.random_normal_initializer(stddev = 0.01, mean = 0.0), name = \"w3\")\n",
    "        w3 = tf.get_variable(shape = [25*25*32 , 256], initializer= tf.random_normal_initializer(stddev = 0.01, mean = 0.0), name = \"w3\")\n",
    "        w4 = tf.get_variable(shape = [256 , 1], initializer= tf.random_normal_initializer(stddev = 0.01, mean = 0.0), name = \"w4\")\n",
    "\n",
    "        b3 = tf.get_variable(shape = [256], initializer= tf.random_normal_initializer(stddev = 0.01, mean = 0.0), name = \"b3\")\n",
    "        b4 = tf.get_variable(shape = [1], initializer= tf.random_normal_initializer(stddev = 0.01, mean = 0.0), name = \"b4\") \n",
    "\n",
    "        #Operations\n",
    "\n",
    "        #<conv1>\n",
    "        conv1_c = tf.nn.conv2d(X, w1 , strides = [1,1,1,1] , padding = 'SAME') \n",
    "        #conv1_c shape : [None, 50,50,32]\n",
    "        conv1_r = tf.nn.relu(conv1_c)\n",
    "        conv1_p = tf.nn.max_pool(conv1_r, ksize = [1,2,2,1] , strides = [1,2,2,1], padding = 'SAME')\n",
    "        #conv1_p shape : [None, 25,25, 32]\n",
    "\n",
    "        ##<conv2>\n",
    "        #conv2_c = tf.nn.conv2d(conv1_p , w2, strides = [1,1,1,1], padding = 'SAME')\n",
    "        ##conv2_c shape : [None, 25, 25, 64]\n",
    "        #conv2_r = tf.nn.relu(conv2_c)\n",
    "        #conv2_p = tf.nn.max_pool(conv2_r, ksize = [1,2,2,1], strides = [1,2,2,1], padding = 'SAME')\n",
    "        ##conv2_p shape : [None, 13, 13 ,64]\n",
    "\n",
    "        #<flattening>\n",
    "        #flattened = tf.reshape(conv2_p , [-1, 13*13*64])\n",
    "        flattened = tf.reshape(conv1_p , [-1, 25*25*32])\n",
    "\n",
    "        #<2 layer fully connected NN>\n",
    "        fc_1 = tf.nn.relu(tf.matmul(flattened , w3) + b3)\n",
    "        fc_2 = tf.nn.sigmoid(tf.matmul(fc_1, w4) + b4)\n",
    "\n",
    "\n",
    "        #Loss function : square mean \n",
    "        loss = tf.reduce_mean(tf.square(fc_2 - Y ))\n",
    "\n",
    "        #Optimizer : Adam Optimizer\n",
    "        optimizer = tf.train.AdamOptimizer(learning_rate)\n",
    "        train = optimizer.minimize(loss)\n",
    "\n",
    "        #Accuracy\n",
    "        fc_2 = fc_2 > 0.5\n",
    "        fc_2 = tf.to_float(fc_2)\n",
    "\n",
    "        accuracy = tf.reduce_mean(tf.to_float(tf.equal(fc_2, Y)))\n",
    "    tf.reset_default_graph()\n",
    "    op_list = [X, Y, loss, train, accuracy]\n",
    "    return cnn, op_list\n",
    "\n",
    "\n",
    "    \n",
    "    "
   ]
  },
  {
   "cell_type": "markdown",
   "metadata": {},
   "source": [
    "# RNN data"
   ]
  },
  {
   "cell_type": "code",
   "execution_count": 34,
   "metadata": {},
   "outputs": [
    {
     "name": "stdout",
     "output_type": "stream",
     "text": [
      "(23683, 30, 2) (23683, 1)\n"
     ]
    }
   ],
   "source": [
    "rnn_x = x_data \n",
    "rnn_y = y_data\n",
    "\n",
    "print(rnn_x.shape, rnn_y.shape)\n",
    "\n",
    "rtrain_x , rtrain_y, rvalid_x, rvalid_y = train_valid_divide(rnn_x, rnn_y)"
   ]
  },
  {
   "cell_type": "markdown",
   "metadata": {},
   "source": [
    "# Making RNN Graph"
   ]
  },
  {
   "cell_type": "code",
   "execution_count": 57,
   "metadata": {
    "collapsed": true
   },
   "outputs": [],
   "source": [
    "def rnn_graph(learning_rate = 0.001, n_hidden = 128) :\n",
    "    rnn = tf.Graph()\n",
    "    with rnn.as_default() : \n",
    "        #feed\n",
    "        X = tf.placeholder(tf.float32, [None, 30, 2], name = 'X')\n",
    "        Y = tf.placeholder(tf.float32, [None, 1], name = 'Y')\n",
    "        \n",
    "        #TRAINABLE variables\n",
    "        cell = tf.nn.rnn_cell.BasicRNNCell(n_hidden)\n",
    "        w = tf.get_variable(name = 'w', shape = [n_hidden, 1] ,initializer = tf.random_normal_initializer(stddev=0.01, mean=0.0))\n",
    "        b = tf.get_variable(name = 'b', shape = [1] ,initializer = tf.random_normal_initializer(stddev=0.01, mean=0.0))\n",
    "        \n",
    "        #Operations\n",
    "        \n",
    "        ##<RNN>\n",
    "        outputs, states = tf.nn.dynamic_rnn(cell, X, dtype=tf.float32) \n",
    "        # outputs shape : (None, n_step, n_hidden)\n",
    "        \n",
    "        outputs = tf.transpose(outputs, [1, 0, 2])\n",
    "        # outputs shape : (n_step, None, n_hidden)  \n",
    "        outputs = outputs[-1]  # 마지막 셀에서 나온 결과값만 사용합니다. \n",
    "        #shape : (None, n_hidden)  \n",
    "        \n",
    "        ##<basic NN>\n",
    "        fc = tf.nn.sigmoid(tf.matmul(outputs, w) + b)\n",
    "        \n",
    "        #Loss function\n",
    "        loss = tf.reduce_sum(tf.square(fc - Y))\n",
    "        \n",
    "        #Optimizer : Adam Optimizer\n",
    "        optimizer = tf.train.AdamOptimizer(learning_rate)\n",
    "        train = optimizer.minimize(loss)\n",
    "        \n",
    "        #Accuracy\n",
    "        fc = fc > 0.5\n",
    "        fc = tf.to_float(fc)\n",
    "        accuracy = tf.reduce_mean(tf.to_float(tf.equal(fc, Y)), name= 'accuracy')\n",
    "        \n",
    "    tf.reset_default_graph()\n",
    "    op_list = [X, Y, loss, train, accuracy]\n",
    "    \n",
    "    return rnn , op_list"
   ]
  },
  {
   "cell_type": "markdown",
   "metadata": {},
   "source": [
    "# Runtime "
   ]
  },
  {
   "cell_type": "code",
   "execution_count": 53,
   "metadata": {
    "collapsed": true
   },
   "outputs": [],
   "source": [
    "\n",
    "def runtime(name , g , op_list , datalist , ckptfile = None, total_epoches = 2, batch_size = 100) : \n",
    "    ## Runtime \n",
    "    import time \n",
    "    X, Y, loss, train, accuracy  = op_list[0], op_list[1], op_list[2], op_list[3], op_list[4]\n",
    "    train_x, train_y, valid_x, valid_y = datalist[0] ,datalist[1], datalist[2], datalist[3]\n",
    "    \n",
    "    with tf.Session(graph=g) as sess : \n",
    "        saver = tf.train.Saver()\n",
    "        sess.run(tf.global_variables_initializer())\n",
    "        if ckptfile == None  : \n",
    "\n",
    "            ## <training> \n",
    "            total_batches = int(train_x.shape[0]/batch_size)\n",
    "\n",
    "            print(\"Training Start : epoch = \", total_epoches, \", each epoch has \", total_batches,\" batch.\"  )\n",
    "\n",
    "            for epoch in range(total_epoches) :\n",
    "                print(\"<epoch \", epoch,\" >\")\n",
    "                total_loss = 0\n",
    "                epoch_start = time.time()\n",
    "                for i in range(total_batches) : \n",
    "                    if len(train_x.shape) == 4:\n",
    "                        batch_x  = train_x[ i*batch_size : (i+1)*batch_size ,:,:,: ]\n",
    "                        batch_y  = train_y[ i*batch_size : (i+1)*batch_size ,: ]\n",
    "                    elif len(train_x.shape) == 3:\n",
    "                        batch_x  = train_x[ i*batch_size : (i+1)*batch_size ,:,:]\n",
    "                        batch_y  = train_y[ i*batch_size : (i+1)*batch_size ,: ]\n",
    "\n",
    "                    sess.run(train, feed_dict = {X : batch_x, Y : batch_y} )\n",
    "                    l = sess.run(loss, feed_dict = {X : batch_x, Y : batch_y})\n",
    "                    acc = sess.run(accuracy, feed_dict = {X : batch_x, Y : batch_y} )\n",
    "\n",
    "                    total_loss += l\n",
    "\n",
    "                    if i%20 == 0 or i== total_batches-1  : \n",
    "                        print(\"batch \", i , \"/\",total_batches , \": loss=\", l, \", accuracy=\", acc)\n",
    "\n",
    "                epoch_time = time.time() - epoch_start\n",
    "                m = int(epoch_time / 60) \n",
    "                s = epoch_time - m*60 \n",
    "\n",
    "                print(\"=>epoch \", epoch, \" result: time=\",m,\"m \", int(s),\"s , \", \"total loss=\", total_loss )\n",
    "\n",
    "            print(\"Training Complete!\")\n",
    "\n",
    "            save_path = saver.save(sess, \"./ckpt/\"+name+\".ckpt\")\n",
    "            print(\"Model`s Variables are saved at : \", save_path)\n",
    "        else :\n",
    "            saver.restore(sess, ckptfile)\n",
    "\n",
    "        ##<validation> \n",
    "        val_acc = sess.run(accuracy, feed_dict = {X : valid_x , Y : valid_y})\n",
    "        print(\"=> Validation Set Accuracy is \", val_acc * 100 , \"%.\")\n"
   ]
  },
  {
   "cell_type": "markdown",
   "metadata": {},
   "source": [
    "# Run CNN for  binary classification"
   ]
  },
  {
   "cell_type": "code",
   "execution_count": 48,
   "metadata": {},
   "outputs": [
    {
     "name": "stdout",
     "output_type": "stream",
     "text": [
      "INFO:tensorflow:Restoring parameters from ./ckpt/cnn.ckpt\n",
      "=> Validation Set Accuracy is  56.5547823906 %.\n"
     ]
    }
   ],
   "source": [
    "#Draw graph\n",
    "cnn_g , cnn_op= cnn_graph()\n",
    "#Run graph\n",
    "runtime(name = \"cnn2\", op_list = cnn_op, datalist = [ctrain_x ,ctrain_y, cvalid_x, cvalid_y], g = cnn_g , ckptfile =\"./ckpt/cnn.ckpt\"  )\n",
    "\n",
    "#cnn_g.get_collection('variables')\n",
    "#cnn_g.get_operations()"
   ]
  },
  {
   "cell_type": "markdown",
   "metadata": {},
   "source": [
    "# Run RNN  for  binary classification"
   ]
  },
  {
   "cell_type": "code",
   "execution_count": 58,
   "metadata": {},
   "outputs": [
    {
     "name": "stdout",
     "output_type": "stream",
     "text": [
      "Training Start : epoch =  2 , each epoch has  189  batch.\n",
      "<epoch  0  >\n",
      "batch  0 / 189 : loss= 24.7271 , accuracy= 0.59\n",
      "batch  20 / 189 : loss= nan , accuracy= 0.49\n",
      "batch  40 / 189 : loss= nan , accuracy= 0.63\n",
      "batch  60 / 189 : loss= nan , accuracy= 0.58\n",
      "batch  80 / 189 : loss= nan , accuracy= 0.59\n",
      "batch  100 / 189 : loss= nan , accuracy= 0.56\n"
     ]
    },
    {
     "ename": "KeyboardInterrupt",
     "evalue": "",
     "output_type": "error",
     "traceback": [
      "\u001b[0;31m---------------------------------------------------------------------------\u001b[0m",
      "\u001b[0;31mKeyboardInterrupt\u001b[0m                         Traceback (most recent call last)",
      "\u001b[0;32m<ipython-input-58-98f9ca96dac8>\u001b[0m in \u001b[0;36m<module>\u001b[0;34m()\u001b[0m\n\u001b[1;32m      1\u001b[0m \u001b[0mrnn_g\u001b[0m \u001b[0;34m,\u001b[0m \u001b[0mrnn_op\u001b[0m \u001b[0;34m=\u001b[0m \u001b[0mrnn_graph\u001b[0m\u001b[0;34m(\u001b[0m\u001b[0;34m)\u001b[0m\u001b[0;34m\u001b[0m\u001b[0m\n\u001b[0;32m----> 2\u001b[0;31m \u001b[0mruntime\u001b[0m\u001b[0;34m(\u001b[0m\u001b[0mname\u001b[0m \u001b[0;34m=\u001b[0m \u001b[0;34m\"rnn1\"\u001b[0m \u001b[0;34m,\u001b[0m\u001b[0mdatalist\u001b[0m \u001b[0;34m=\u001b[0m\u001b[0;34m[\u001b[0m\u001b[0mrtrain_x\u001b[0m  \u001b[0;34m,\u001b[0m\u001b[0mrtrain_y\u001b[0m\u001b[0;34m,\u001b[0m \u001b[0mrvalid_x\u001b[0m\u001b[0;34m,\u001b[0m \u001b[0mrvalid_y\u001b[0m\u001b[0;34m]\u001b[0m\u001b[0;34m,\u001b[0m \u001b[0mop_list\u001b[0m \u001b[0;34m=\u001b[0m \u001b[0mrnn_op\u001b[0m\u001b[0;34m,\u001b[0m \u001b[0mg\u001b[0m \u001b[0;34m=\u001b[0m \u001b[0mrnn_g\u001b[0m\u001b[0;34m)\u001b[0m\u001b[0;34m\u001b[0m\u001b[0m\n\u001b[0m",
      "\u001b[0;32m<ipython-input-53-1643bb27be99>\u001b[0m in \u001b[0;36mruntime\u001b[0;34m(name, g, op_list, datalist, ckptfile, total_epoches, batch_size)\u001b[0m\n\u001b[1;32m     30\u001b[0m                     \u001b[0msess\u001b[0m\u001b[0;34m.\u001b[0m\u001b[0mrun\u001b[0m\u001b[0;34m(\u001b[0m\u001b[0mtrain\u001b[0m\u001b[0;34m,\u001b[0m \u001b[0mfeed_dict\u001b[0m \u001b[0;34m=\u001b[0m \u001b[0;34m{\u001b[0m\u001b[0mX\u001b[0m \u001b[0;34m:\u001b[0m \u001b[0mbatch_x\u001b[0m\u001b[0;34m,\u001b[0m \u001b[0mY\u001b[0m \u001b[0;34m:\u001b[0m \u001b[0mbatch_y\u001b[0m\u001b[0;34m}\u001b[0m \u001b[0;34m)\u001b[0m\u001b[0;34m\u001b[0m\u001b[0m\n\u001b[1;32m     31\u001b[0m                     \u001b[0ml\u001b[0m \u001b[0;34m=\u001b[0m \u001b[0msess\u001b[0m\u001b[0;34m.\u001b[0m\u001b[0mrun\u001b[0m\u001b[0;34m(\u001b[0m\u001b[0mloss\u001b[0m\u001b[0;34m,\u001b[0m \u001b[0mfeed_dict\u001b[0m \u001b[0;34m=\u001b[0m \u001b[0;34m{\u001b[0m\u001b[0mX\u001b[0m \u001b[0;34m:\u001b[0m \u001b[0mbatch_x\u001b[0m\u001b[0;34m,\u001b[0m \u001b[0mY\u001b[0m \u001b[0;34m:\u001b[0m \u001b[0mbatch_y\u001b[0m\u001b[0;34m}\u001b[0m\u001b[0;34m)\u001b[0m\u001b[0;34m\u001b[0m\u001b[0m\n\u001b[0;32m---> 32\u001b[0;31m                     \u001b[0macc\u001b[0m \u001b[0;34m=\u001b[0m \u001b[0msess\u001b[0m\u001b[0;34m.\u001b[0m\u001b[0mrun\u001b[0m\u001b[0;34m(\u001b[0m\u001b[0maccuracy\u001b[0m\u001b[0;34m,\u001b[0m \u001b[0mfeed_dict\u001b[0m \u001b[0;34m=\u001b[0m \u001b[0;34m{\u001b[0m\u001b[0mX\u001b[0m \u001b[0;34m:\u001b[0m \u001b[0mbatch_x\u001b[0m\u001b[0;34m,\u001b[0m \u001b[0mY\u001b[0m \u001b[0;34m:\u001b[0m \u001b[0mbatch_y\u001b[0m\u001b[0;34m}\u001b[0m \u001b[0;34m)\u001b[0m\u001b[0;34m\u001b[0m\u001b[0m\n\u001b[0m\u001b[1;32m     33\u001b[0m \u001b[0;34m\u001b[0m\u001b[0m\n\u001b[1;32m     34\u001b[0m                     \u001b[0mtotal_loss\u001b[0m \u001b[0;34m+=\u001b[0m \u001b[0ml\u001b[0m\u001b[0;34m\u001b[0m\u001b[0m\n",
      "\u001b[0;32m/Users/shinjayne/anaconda/lib/python3.5/site-packages/tensorflow/python/client/session.py\u001b[0m in \u001b[0;36mrun\u001b[0;34m(self, fetches, feed_dict, options, run_metadata)\u001b[0m\n\u001b[1;32m    787\u001b[0m     \u001b[0;32mtry\u001b[0m\u001b[0;34m:\u001b[0m\u001b[0;34m\u001b[0m\u001b[0m\n\u001b[1;32m    788\u001b[0m       result = self._run(None, fetches, feed_dict, options_ptr,\n\u001b[0;32m--> 789\u001b[0;31m                          run_metadata_ptr)\n\u001b[0m\u001b[1;32m    790\u001b[0m       \u001b[0;32mif\u001b[0m \u001b[0mrun_metadata\u001b[0m\u001b[0;34m:\u001b[0m\u001b[0;34m\u001b[0m\u001b[0m\n\u001b[1;32m    791\u001b[0m         \u001b[0mproto_data\u001b[0m \u001b[0;34m=\u001b[0m \u001b[0mtf_session\u001b[0m\u001b[0;34m.\u001b[0m\u001b[0mTF_GetBuffer\u001b[0m\u001b[0;34m(\u001b[0m\u001b[0mrun_metadata_ptr\u001b[0m\u001b[0;34m)\u001b[0m\u001b[0;34m\u001b[0m\u001b[0m\n",
      "\u001b[0;32m/Users/shinjayne/anaconda/lib/python3.5/site-packages/tensorflow/python/client/session.py\u001b[0m in \u001b[0;36m_run\u001b[0;34m(self, handle, fetches, feed_dict, options, run_metadata)\u001b[0m\n\u001b[1;32m    995\u001b[0m     \u001b[0;32mif\u001b[0m \u001b[0mfinal_fetches\u001b[0m \u001b[0;32mor\u001b[0m \u001b[0mfinal_targets\u001b[0m\u001b[0;34m:\u001b[0m\u001b[0;34m\u001b[0m\u001b[0m\n\u001b[1;32m    996\u001b[0m       results = self._do_run(handle, final_targets, final_fetches,\n\u001b[0;32m--> 997\u001b[0;31m                              feed_dict_string, options, run_metadata)\n\u001b[0m\u001b[1;32m    998\u001b[0m     \u001b[0;32melse\u001b[0m\u001b[0;34m:\u001b[0m\u001b[0;34m\u001b[0m\u001b[0m\n\u001b[1;32m    999\u001b[0m       \u001b[0mresults\u001b[0m \u001b[0;34m=\u001b[0m \u001b[0;34m[\u001b[0m\u001b[0;34m]\u001b[0m\u001b[0;34m\u001b[0m\u001b[0m\n",
      "\u001b[0;32m/Users/shinjayne/anaconda/lib/python3.5/site-packages/tensorflow/python/client/session.py\u001b[0m in \u001b[0;36m_do_run\u001b[0;34m(self, handle, target_list, fetch_list, feed_dict, options, run_metadata)\u001b[0m\n\u001b[1;32m   1130\u001b[0m     \u001b[0;32mif\u001b[0m \u001b[0mhandle\u001b[0m \u001b[0;32mis\u001b[0m \u001b[0;32mNone\u001b[0m\u001b[0;34m:\u001b[0m\u001b[0;34m\u001b[0m\u001b[0m\n\u001b[1;32m   1131\u001b[0m       return self._do_call(_run_fn, self._session, feed_dict, fetch_list,\n\u001b[0;32m-> 1132\u001b[0;31m                            target_list, options, run_metadata)\n\u001b[0m\u001b[1;32m   1133\u001b[0m     \u001b[0;32melse\u001b[0m\u001b[0;34m:\u001b[0m\u001b[0;34m\u001b[0m\u001b[0m\n\u001b[1;32m   1134\u001b[0m       return self._do_call(_prun_fn, self._session, handle, feed_dict,\n",
      "\u001b[0;32m/Users/shinjayne/anaconda/lib/python3.5/site-packages/tensorflow/python/client/session.py\u001b[0m in \u001b[0;36m_do_call\u001b[0;34m(self, fn, *args)\u001b[0m\n\u001b[1;32m   1137\u001b[0m   \u001b[0;32mdef\u001b[0m \u001b[0m_do_call\u001b[0m\u001b[0;34m(\u001b[0m\u001b[0mself\u001b[0m\u001b[0;34m,\u001b[0m \u001b[0mfn\u001b[0m\u001b[0;34m,\u001b[0m \u001b[0;34m*\u001b[0m\u001b[0margs\u001b[0m\u001b[0;34m)\u001b[0m\u001b[0;34m:\u001b[0m\u001b[0;34m\u001b[0m\u001b[0m\n\u001b[1;32m   1138\u001b[0m     \u001b[0;32mtry\u001b[0m\u001b[0;34m:\u001b[0m\u001b[0;34m\u001b[0m\u001b[0m\n\u001b[0;32m-> 1139\u001b[0;31m       \u001b[0;32mreturn\u001b[0m \u001b[0mfn\u001b[0m\u001b[0;34m(\u001b[0m\u001b[0;34m*\u001b[0m\u001b[0margs\u001b[0m\u001b[0;34m)\u001b[0m\u001b[0;34m\u001b[0m\u001b[0m\n\u001b[0m\u001b[1;32m   1140\u001b[0m     \u001b[0;32mexcept\u001b[0m \u001b[0merrors\u001b[0m\u001b[0;34m.\u001b[0m\u001b[0mOpError\u001b[0m \u001b[0;32mas\u001b[0m \u001b[0me\u001b[0m\u001b[0;34m:\u001b[0m\u001b[0;34m\u001b[0m\u001b[0m\n\u001b[1;32m   1141\u001b[0m       \u001b[0mmessage\u001b[0m \u001b[0;34m=\u001b[0m \u001b[0mcompat\u001b[0m\u001b[0;34m.\u001b[0m\u001b[0mas_text\u001b[0m\u001b[0;34m(\u001b[0m\u001b[0me\u001b[0m\u001b[0;34m.\u001b[0m\u001b[0mmessage\u001b[0m\u001b[0;34m)\u001b[0m\u001b[0;34m\u001b[0m\u001b[0m\n",
      "\u001b[0;32m/Users/shinjayne/anaconda/lib/python3.5/site-packages/tensorflow/python/client/session.py\u001b[0m in \u001b[0;36m_run_fn\u001b[0;34m(session, feed_dict, fetch_list, target_list, options, run_metadata)\u001b[0m\n\u001b[1;32m   1119\u001b[0m         return tf_session.TF_Run(session, options,\n\u001b[1;32m   1120\u001b[0m                                  \u001b[0mfeed_dict\u001b[0m\u001b[0;34m,\u001b[0m \u001b[0mfetch_list\u001b[0m\u001b[0;34m,\u001b[0m \u001b[0mtarget_list\u001b[0m\u001b[0;34m,\u001b[0m\u001b[0;34m\u001b[0m\u001b[0m\n\u001b[0;32m-> 1121\u001b[0;31m                                  status, run_metadata)\n\u001b[0m\u001b[1;32m   1122\u001b[0m \u001b[0;34m\u001b[0m\u001b[0m\n\u001b[1;32m   1123\u001b[0m     \u001b[0;32mdef\u001b[0m \u001b[0m_prun_fn\u001b[0m\u001b[0;34m(\u001b[0m\u001b[0msession\u001b[0m\u001b[0;34m,\u001b[0m \u001b[0mhandle\u001b[0m\u001b[0;34m,\u001b[0m \u001b[0mfeed_dict\u001b[0m\u001b[0;34m,\u001b[0m \u001b[0mfetch_list\u001b[0m\u001b[0;34m)\u001b[0m\u001b[0;34m:\u001b[0m\u001b[0;34m\u001b[0m\u001b[0m\n",
      "\u001b[0;31mKeyboardInterrupt\u001b[0m: "
     ]
    }
   ],
   "source": [
    "#Draw graph\n",
    "rnn_g , rnn_op = rnn_graph()\n",
    "#Run graph\n",
    "runtime(name = \"rnn1\" ,datalist =[rtrain_x  ,rtrain_y, rvalid_x, rvalid_y], op_list = rnn_op, g = rnn_g)"
   ]
  },
  {
   "cell_type": "code",
   "execution_count": null,
   "metadata": {
    "collapsed": true
   },
   "outputs": [],
   "source": []
  }
 ],
 "metadata": {
  "kernelspec": {
   "display_name": "Python [conda root]",
   "language": "python",
   "name": "conda-root-py"
  },
  "language_info": {
   "codemirror_mode": {
    "name": "ipython",
    "version": 3
   },
   "file_extension": ".py",
   "mimetype": "text/x-python",
   "name": "python",
   "nbconvert_exporter": "python",
   "pygments_lexer": "ipython3",
   "version": "3.5.3"
  }
 },
 "nbformat": 4,
 "nbformat_minor": 2
}
